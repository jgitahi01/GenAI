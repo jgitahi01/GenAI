{
 "cells": [
  {
   "cell_type": "code",
   "execution_count": null,
   "metadata": {},
   "outputs": [],
   "source": [
    "import streamlit as st\n",
    "from transformers import AutoTokenizer, AutoModel\n",
    "import torch\n",
    "import faiss\n",
    "import numpy as np\n",
    "\n",
    "# Load tokenizer and model\n",
    "tokenizer = AutoTokenizer.from_pretrained(\"sentence-transformers/all-MiniLM-L6-v2\")\n",
    "model = AutoModel.from_pretrained(\"sentence-transformers/all-MiniLM-L6-v2\")\n",
    "\n",
    "# Sample FAQ database\n",
    "faqs = {\n",
    "    \"What is AI?\": \"Artificial Intelligence (AI) is the simulation of human intelligence in machines that can perform tasks like learning and problem-solving.\",\n",
    "    \"How does machine learning work?\": \"Machine learning is a subset of AI that enables systems to learn from data patterns without explicit programming.\",\n",
    "    \"What is deep learning?\": \"Deep learning is a branch of machine learning using neural networks with multiple layers to analyze complex data.\",\n",
    "}\n",
    "\n",
    "# Convert FAQ questions into embeddings\n",
    "def get_embedding(text):\n",
    "    inputs = tokenizer(text, return_tensors=\"pt\", padding=True, truncation=True)\n",
    "    with torch.no_grad():\n",
    "        outputs = model(**inputs)\n",
    "    return outputs.last_hidden_state[:, 0, :].numpy()\n",
    "\n",
    "faq_embeddings = np.array([get_embedding(q) for q in faqs.keys()])\n",
    "index = faiss.IndexFlatL2(faq_embeddings.shape[2])\n",
    "index.add(faq_embeddings.reshape(len(faqs), -1))\n",
    "\n",
    "# Streamlit UI\n",
    "st.title(\"Smart FAQ Assistant\")\n",
    "user_query = st.text_input(\"Ask a question:\")\n",
    "\n",
    "if user_query:\n",
    "    query_embedding = get_embedding(user_query).reshape(1, -1)\n",
    "    _, idx = index.search(query_embedding, 1)\n",
    "    best_match = list(faqs.keys())[idx[0][0]]\n",
    "    st.write(\"**Answer:**\", faqs[best_match])\n"
   ]
  }
 ],
 "metadata": {
  "language_info": {
   "name": "python"
  }
 },
 "nbformat": 4,
 "nbformat_minor": 2
}
