{
 "cells": [
  {
   "cell_type": "code",
   "execution_count": null,
   "metadata": {},
   "outputs": [],
   "source": [
    "import tensorflow as tf\n",
    "from tensorflow.keras.datasets import imdb\n",
    "from tensorflow.keras.models import Sequential\n",
    "from tensorflow.keras.layers import Embedding, SimpleRNN, Dense\n",
    "from tensorflow.keras.preprocessing.sequence import pad_sequences\n",
    "\n",
    "# Step 1: Load the IMDB Dataset\n",
    "vocab_size = 10000  # Use the top 10,000 most frequent words\n",
    "maxlen = 100        # Maximum review length\n",
    "\n",
    "(x_train, y_train), (x_test, y_test) = imdb.load_data(num_words=vocab_size)\n",
    "\n",
    "# Step 2: Preprocess the Data\n",
    "x_train = pad_sequences(x_train, maxlen=maxlen)\n",
    "x_test = pad_sequences(x_test, maxlen=maxlen)\n",
    "\n",
    "# Step 3: Define the RNN Model\n",
    "model = Sequential([\n",
    "    Embedding(vocab_size, 32, input_length=maxlen),  # Embedding layer\n",
    "    SimpleRNN(32, return_sequences=False),           # RNN layer\n",
    "    Dense(1, activation='sigmoid')                  # Output layer\n",
    "])\n",
    "\n",
    "# Step 4: Compile the Model\n",
    "model.compile(optimizer='adam',\n",
    "              loss='binary_crossentropy',\n",
    "              metrics=['accuracy'])\n",
    "\n",
    "# Step 5: Train the Model\n",
    "history = model.fit(x_train, y_train, epochs=5, batch_size=64, validation_split=0.2)\n",
    "\n",
    "# Step 6: Evaluate the Model\n",
    "test_loss, test_accuracy = model.evaluate(x_test, y_test)\n",
    "print(f\"Test Accuracy: {test_accuracy * 100:.2f}%\")\n",
    "\n",
    "# Step 7: Make Predictions (Optional)\n",
    "sample_review = x_test[0].reshape(1, -1)  # Take the first test review as an example\n",
    "prediction = model.predict(sample_review)\n",
    "print(f\"Predicted Sentiment: {'Positive' if prediction[0][0] > 0.5 else 'Negative'}\")"
   ]
  }
 ],
 "metadata": {
  "language_info": {
   "name": "python"
  }
 },
 "nbformat": 4,
 "nbformat_minor": 2
}
